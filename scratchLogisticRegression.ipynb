{
 "cells": [
  {
   "cell_type": "code",
   "execution_count": null,
   "id": "737c5004-1365-443f-a60e-9506ebce81f3",
   "metadata": {},
   "outputs": [],
   "source": [
    "import pandas as pd\n",
    "import numpy as np\n",
    "import os \n",
    "from math import e\n",
    "from sklearn.linear_model import LogisticRegression"
   ]
  },
  {
   "cell_type": "code",
   "execution_count": null,
   "id": "7a1e361c-7495-4232-97c9-c9c7f781b1c4",
   "metadata": {},
   "outputs": [],
   "source": [
    "class LogisticRegressionScratch(object):\n",
    "    def __init__(self, tolerance = 10**-8, max_iterations = 20):\n",
    "        \n",
    "        self.tolerance = tolerance\n",
    "        self.max_iterations = max_iterations\n",
    "        self.weights_array = None #current weights + intercept \n",
    "        self.prior_w = None # previous weights + intercept \n",
    "        \n",
    "        # final values for the weights and intercept\n",
    "        self.weights = None\n",
    "        self.intercept = None \n",
    "\n",
    "        \n",
    "    def predict_proba(self, X):\n",
    "       \n",
    "        XW = np.dot(X, self.weights_array)\n",
    "        P = 1 / (1 + np.exp(-XW))\n",
    "        return P\n",
    "\n",
    "    \n",
    "    \n",
    "    def compute_gradient(self, X, y, P):\n",
    "        \n",
    "        G = -np.dot((y-P).T, X)      \n",
    "        return G\n",
    "        \n",
    "    def compute_hessian(self, X, P):\n",
    "    \n",
    "        Q = P * (1 - P) \n",
    "        XQ = X.T * Q\n",
    "        H = np.dot(XQ, X)\n",
    "        return H\n",
    "\n",
    "\n",
    "    def update_weights(self, X, y):\n",
    "      \n",
    "        P = self.predict_proba(X)\n",
    "        G = self.compute_gradient(X,y,P)\n",
    "        H = self.compute_hessian(X,P)\n",
    "        self.prior_w = self.weights_array.copy() \n",
    "        self.weights_array -= np.dot(np.linalg.inv(H), G)\n",
    "        \n",
    "        \n",
    "        \n",
    "           \n",
    "    def check_stop(self):\n",
    "     \n",
    "        w_old_norm = self.prior_w / np.linalg.norm(self.prior_w)\n",
    "        w_new_norm = self.weights_array / np.linalg.norm(self.weights_array)\n",
    "        diff = w_old_norm - w_new_norm\n",
    "        distance = np.sqrt(np.dot(diff,diff))\n",
    "        if distance < self.tolerance:\n",
    "            stop = True\n",
    "        if distance > self.tolerance:\n",
    "            stop = False \n",
    "        return stop\n",
    "        \n",
    "        \n",
    "    def fit(self, X, y):\n",
    "     \n",
    "        #setting initial weights +  extra dimension for the intercept\n",
    "        self.weights_array = np.zeros(X.shape[1] + 1)\n",
    "        \n",
    "        #Initializing the slope parameter to log(base rate/(1-base rate))\n",
    "        self.weights_array[-1] = np.log(y.mean() / (1-y.mean()))\n",
    "        \n",
    "        #creating a new X matrix that includes a column of ones for the intercept\n",
    "        X_int = np.hstack((X, np.ones((X.shape[0],1))))\n",
    "\n",
    "        for i in range(self.max_iterations):\n",
    "            self.update_weights(X_int, y)\n",
    "            \n",
    "            stop = self.check_stop()\n",
    "            if stop:\n",
    "                self.set_final_weights()\n",
    "                self.set_final_intercept()\n",
    "                break\n",
    "                \n",
    "    \n",
    "    def set_final_weights(self):\n",
    "        self.weights = self.weights_array[0:-1]\n",
    "        \n",
    "    def set_final_intercept(self):\n",
    "        self.intercept = self.weights_array[-1]  \n",
    "        \n",
    "    def get_weights(self):\n",
    "        return self.weights\n",
    "    \n",
    "    def get_intercept(self):\n",
    "        return self.intercept\n",
    "        "
   ]
  },
  {
   "cell_type": "code",
   "execution_count": null,
   "id": "883f5657-b233-4906-a6c9-92fab3e48b84",
   "metadata": {},
   "outputs": [],
   "source": [
    "filename = os.path.join(os.getcwd(), \"data\", \"airbnbData_train.csv\")\n",
    "df = pd.read_csv(filename, header=0)"
   ]
  },
  {
   "cell_type": "code",
   "execution_count": null,
   "id": "584236cb-42a7-4a12-8371-b8b16ab4fa65",
   "metadata": {},
   "outputs": [],
   "source": [
    "# Setting features for predicting super host\n",
    "feature_list = ['review_scores_rating','review_scores_cleanliness','review_scores_checkin','review_scores_communication','review_scores_value','host_response_rate','host_acceptance_rate']\n",
    "feature_list"
   ]
  },
  {
   "cell_type": "code",
   "execution_count": null,
   "id": "01ac089e-8bc4-43dc-8c10-2cafb7e0ca3f",
   "metadata": {},
   "outputs": [],
   "source": [
    "# Setting labels for predicting super host + features\n",
    "X = df[feature_list]\n",
    "y = df['host_is_superhost']"
   ]
  },
  {
   "cell_type": "code",
   "execution_count": null,
   "id": "24a6705d-b6ae-4201-acb8-92bfd4f38682",
   "metadata": {},
   "outputs": [],
   "source": [
    "# Instance of linear regression\n",
    "lr = LogisticRegressionScratch()\n",
    "lr.fit(X,y)"
   ]
  },
  {
   "cell_type": "code",
   "execution_count": null,
   "id": "e845fa5d-ce8a-44e8-b334-09842386835d",
   "metadata": {},
   "outputs": [],
   "source": [
    "# Resulting weights and intercepts\n",
    "print('The fitted weights and intercept are:')\n",
    "print(lr.get_weights(), lr.get_intercept())"
   ]
  },
  {
   "cell_type": "code",
   "execution_count": null,
   "id": "3669225d-55bc-4ff3-9c06-269cb437ce29",
   "metadata": {},
   "outputs": [],
   "source": [
    "# Scikit-learn LogisticRegression model\n",
    "lr_sk = LogisticRegression(C=10**10)\n",
    "lr_sk.fit(X,y)"
   ]
  },
  {
   "cell_type": "code",
   "execution_count": null,
   "id": "d392623d-1711-4a06-bf70-855db245c792",
   "metadata": {},
   "outputs": [],
   "source": [
    "# Resulting weights and intercept\n",
    "print('The fitted weights and intercept with sklearn are:')\n",
    "print(lr_sk.coef_, lr_sk.intercept_)"
   ]
  },
  {
   "cell_type": "code",
   "execution_count": null,
   "id": "2c6b4545-f412-4eaf-be75-4d7d18f2b4b3",
   "metadata": {},
   "outputs": [],
   "source": [
    "# Fitting the logistic regression model lr on the training data\n"
   ]
  }
 ],
 "metadata": {
  "kernelspec": {
   "display_name": "Python 3 (ipykernel)",
   "language": "python",
   "name": "python3"
  },
  "language_info": {
   "codemirror_mode": {
    "name": "ipython",
    "version": 3
   },
   "file_extension": ".py",
   "mimetype": "text/x-python",
   "name": "python",
   "nbconvert_exporter": "python",
   "pygments_lexer": "ipython3",
   "version": "3.12.6"
  }
 },
 "nbformat": 4,
 "nbformat_minor": 5
}
